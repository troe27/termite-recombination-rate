{
 "cells": [
  {
   "cell_type": "markdown",
   "id": "b46966f3-2c26-4f06-8b47-4fbca12ec09f",
   "metadata": {},
   "source": [
    "### Imports"
   ]
  },
  {
   "cell_type": "code",
   "execution_count": 1,
   "id": "4517cc29-8263-4457-a679-f791b255a535",
   "metadata": {},
   "outputs": [],
   "source": [
    "import pandas as pd\n",
    "import numpy as np\n",
    "import subprocess\n",
    "import os\n",
    "import seaborn as sns\n",
    "import matplotlib.pyplot as plt\n",
    "from collections import Counter"
   ]
  },
  {
   "cell_type": "markdown",
   "id": "7bfbf6b8-79fa-4a58-afc6-1cc6a7a631a4",
   "metadata": {},
   "source": [
    "### load raw data"
   ]
  },
  {
   "cell_type": "code",
   "execution_count": 7,
   "id": "a2259ac4-34b4-4bba-8cd3-661c6b50893d",
   "metadata": {},
   "outputs": [],
   "source": [
    "# load data\n",
    "braker = pd.read_csv('./braker.gff3_red', sep='\\t')"
   ]
  },
  {
   "cell_type": "markdown",
   "id": "85ae99c6-523c-4e10-9d64-6200fe1e80f7",
   "metadata": {},
   "source": [
    "### process into chunks and send off to slurm"
   ]
  },
  {
   "cell_type": "code",
   "execution_count": 8,
   "id": "8e47368d-fca3-4d3b-953b-cd35d9a6e470",
   "metadata": {},
   "outputs": [],
   "source": [
    "#split into chunks and write them\n",
    "chunk_n = 200\n",
    "braker_split = np.array_split(braker, chunk_n)"
   ]
  },
  {
   "cell_type": "code",
   "execution_count": 9,
   "id": "e744894b-b44e-400c-9643-917959acaf96",
   "metadata": {},
   "outputs": [],
   "source": [
    "def create_and_submit_sbatch(batch, chunk):\n",
    "    name=\"CpG_batch{batch}.job\".format(batch=batch)\n",
    "    sbatch = [ \"#!/bin/bash -l\",\n",
    "                    \"#SBATCH -A naiss2023-22-450\",\n",
    "                    \"#SBATCH -t 2:0:0 \",\n",
    "                    \"#SBATCH -p core -n 1\",\n",
    "                    \"#SBATCH -J {name}\".format(name=name),\n",
    "                    \"#SBATCH -o {name}_%j.out\".format(name=name),\n",
    "                    \"#SBATCH -e {name}_%j.error\".format(name=name),\n",
    "                    \"#SBATCH --get-user-env\",\n",
    "                    \"##command underneath this##\",\n",
    "                    \"conda activate base\",\n",
    "                    \"python get_Mbel_cpg_chunk.py --input {chunk}\".format(chunk=chunk)]\n",
    "    with open(name, 'wt') as handle:\n",
    "        handle.write(\"\\n\".join(sbatch))\n",
    "    subprocess.call([\"chmod\", \"766\", name])\n",
    "    subprocess.call([\"sbatch\", name])"
   ]
  },
  {
   "cell_type": "code",
   "execution_count": 3,
   "id": "d55130fc-20bd-49a9-a855-0ca2b5efa4f3",
   "metadata": {},
   "outputs": [],
   "source": []
  },
  {
   "cell_type": "code",
   "execution_count": 6,
   "id": "7fcb3d04-dc8a-4ee0-b4ee-cac10c35c63f",
   "metadata": {},
   "outputs": [],
   "source": [
    "#data = pd.read_csv(\"Mbel_per_base_content_wind_1000b_repeatmask_xcount.txt\", sep='\\t')"
   ]
  },
  {
   "cell_type": "code",
   "execution_count": 11,
   "id": "77d7f173-ac6b-415b-b657-dde50b76046c",
   "metadata": {},
   "outputs": [],
   "source": [
    "#bin_pos =[]\n",
    "#start =0\n",
    "#stop = 1e3\n",
    "#scf_d = dict()\n",
    "#for i,k in data.iterrows():\n",
    "#    if k[\"contig\"] not in scf_d:\n",
    "#        start =0\n",
    "#        stop = 1e3\n",
    "#        scf_d[k[\"contig\"]]=True\n",
    "#    bin_pos.append([start, stop])\n",
    "#    start = start+1e3\n",
    "#    stop = stop+1e3\n",
    "\n",
    "#bpdf = pd.DataFrame(bin_pos)   \n",
    "#data[\"bin_start\"] =bpdf[0]\n",
    "#data[\"bin_stop\"] =bpdf[1]"
   ]
  },
  {
   "cell_type": "code",
   "execution_count": 17,
   "id": "83f9d9c9-ca9c-4360-ab53-75fb9e6ed4d4",
   "metadata": {},
   "outputs": [],
   "source": [
    "#data.to_csv(\"20230708_Mbel_CpG_1kbwindow_with_start_stop_pos.csv\")"
   ]
  },
  {
   "cell_type": "code",
   "execution_count": 5,
   "id": "15ac82c9-8814-40f9-b938-5feaaa56c711",
   "metadata": {},
   "outputs": [],
   "source": [
    "row = braker.iloc[4,]"
   ]
  },
  {
   "cell_type": "code",
   "execution_count": 6,
   "id": "a8299b1b-46b6-4216-95a5-11c1b7b1e4ba",
   "metadata": {},
   "outputs": [
    {
     "ename": "NameError",
     "evalue": "name 'data' is not defined",
     "output_type": "error",
     "traceback": [
      "\u001b[0;31m---------------------------------------------------------------------------\u001b[0m",
      "\u001b[0;31mNameError\u001b[0m                                 Traceback (most recent call last)",
      "Cell \u001b[0;32mIn[6], line 1\u001b[0m\n\u001b[0;32m----> 1\u001b[0m \u001b[43mdata\u001b[49m\n",
      "\u001b[0;31mNameError\u001b[0m: name 'data' is not defined"
     ]
    }
   ],
   "source": []
  },
  {
   "cell_type": "code",
   "execution_count": null,
   "id": "bd38a37f-7f97-40c4-a2e7-6901e3fc43d5",
   "metadata": {},
   "outputs": [],
   "source": []
  },
  {
   "cell_type": "code",
   "execution_count": 34,
   "id": "3da2c0bc-d8cf-4b06-a4ba-5ba2c9e31131",
   "metadata": {},
   "outputs": [],
   "source": [
    "ss_data = data.loc[data.contig==row.Scaffold].loc[(data.bin_start)<row.End_pos].loc[(data.bin_stop)>row.Start_pos]\n"
   ]
  },
  {
   "cell_type": "code",
   "execution_count": 50,
   "id": "d193a8b7-b7bb-435e-9c97-772b9afb381d",
   "metadata": {},
   "outputs": [
    {
     "data": {
      "text/plain": [
       "200"
      ]
     },
     "execution_count": 50,
     "metadata": {},
     "output_type": "execute_result"
    }
   ],
   "source": [
    "len(braker_split)"
   ]
  },
  {
   "cell_type": "code",
   "execution_count": 10,
   "id": "ab342788-5dfc-4edb-b52d-740510546851",
   "metadata": {},
   "outputs": [
    {
     "name": "stdout",
     "output_type": "stream",
     "text": [
      "Submitted batch job 39523572\n",
      "Submitted batch job 39523573\n",
      "Submitted batch job 39523574\n",
      "Submitted batch job 39523575\n",
      "Submitted batch job 39523576\n",
      "Submitted batch job 39523577\n",
      "Submitted batch job 39523578\n",
      "Submitted batch job 39523579\n",
      "Submitted batch job 39523580\n",
      "Submitted batch job 39523581\n",
      "Submitted batch job 39523582\n",
      "Submitted batch job 39523583\n",
      "Submitted batch job 39523584\n",
      "Submitted batch job 39523585\n",
      "Submitted batch job 39523586\n",
      "Submitted batch job 39523587\n",
      "Submitted batch job 39523588\n",
      "Submitted batch job 39523589\n",
      "Submitted batch job 39523590\n",
      "Submitted batch job 39523591\n",
      "Submitted batch job 39523592\n",
      "Submitted batch job 39523593\n",
      "Submitted batch job 39523594\n",
      "Submitted batch job 39523595\n",
      "Submitted batch job 39523596\n",
      "Submitted batch job 39523597\n",
      "Submitted batch job 39523598\n",
      "Submitted batch job 39523599\n",
      "Submitted batch job 39523600\n",
      "Submitted batch job 39523601\n",
      "Submitted batch job 39523602\n",
      "Submitted batch job 39523603\n",
      "Submitted batch job 39523604\n",
      "Submitted batch job 39523605\n",
      "Submitted batch job 39523606\n",
      "Submitted batch job 39523607\n",
      "Submitted batch job 39523608\n",
      "Submitted batch job 39523609\n",
      "Submitted batch job 39523610\n",
      "Submitted batch job 39523611\n",
      "Submitted batch job 39523612\n",
      "Submitted batch job 39523613\n",
      "Submitted batch job 39523614\n",
      "Submitted batch job 39523615\n",
      "Submitted batch job 39523616\n",
      "Submitted batch job 39523617\n",
      "Submitted batch job 39523618\n",
      "Submitted batch job 39523619\n",
      "Submitted batch job 39523620\n",
      "Submitted batch job 39523621\n",
      "Submitted batch job 39523622\n",
      "Submitted batch job 39523623\n",
      "Submitted batch job 39523624\n",
      "Submitted batch job 39523625\n",
      "Submitted batch job 39523626\n",
      "Submitted batch job 39523627\n",
      "Submitted batch job 39523628\n",
      "Submitted batch job 39523629\n",
      "Submitted batch job 39523630\n",
      "Submitted batch job 39523631\n",
      "Submitted batch job 39523632\n",
      "Submitted batch job 39523633\n",
      "Submitted batch job 39523634\n",
      "Submitted batch job 39523635\n",
      "Submitted batch job 39523636\n",
      "Submitted batch job 39523637\n",
      "Submitted batch job 39523638\n",
      "Submitted batch job 39523639\n",
      "Submitted batch job 39523640\n",
      "Submitted batch job 39523641\n",
      "Submitted batch job 39523642\n",
      "Submitted batch job 39523643\n",
      "Submitted batch job 39523644\n",
      "Submitted batch job 39523645\n",
      "Submitted batch job 39523646\n",
      "Submitted batch job 39523647\n",
      "Submitted batch job 39523648\n",
      "Submitted batch job 39523649\n",
      "Submitted batch job 39523650\n",
      "Submitted batch job 39523651\n",
      "Submitted batch job 39523652\n",
      "Submitted batch job 39523653\n",
      "Submitted batch job 39523654\n",
      "Submitted batch job 39523655\n",
      "Submitted batch job 39523656\n",
      "Submitted batch job 39523657\n",
      "Submitted batch job 39523658\n",
      "Submitted batch job 39523659\n",
      "Submitted batch job 39523660\n",
      "Submitted batch job 39523661\n",
      "Submitted batch job 39523662\n",
      "Submitted batch job 39523663\n",
      "Submitted batch job 39523664\n",
      "Submitted batch job 39523665\n",
      "Submitted batch job 39523666\n",
      "Submitted batch job 39523667\n",
      "Submitted batch job 39523668\n",
      "Submitted batch job 39523669\n",
      "Submitted batch job 39523670\n",
      "Submitted batch job 39523671\n",
      "Submitted batch job 39523672\n",
      "Submitted batch job 39523673\n",
      "Submitted batch job 39523674\n",
      "Submitted batch job 39523675\n",
      "Submitted batch job 39523676\n",
      "Submitted batch job 39523677\n",
      "Submitted batch job 39523678\n",
      "Submitted batch job 39523679\n",
      "Submitted batch job 39523680\n",
      "Submitted batch job 39523681\n",
      "Submitted batch job 39523682\n",
      "Submitted batch job 39523683\n",
      "Submitted batch job 39523684\n",
      "Submitted batch job 39523685\n",
      "Submitted batch job 39523686\n",
      "Submitted batch job 39523687\n",
      "Submitted batch job 39523688\n",
      "Submitted batch job 39523689\n",
      "Submitted batch job 39523690\n",
      "Submitted batch job 39523691\n",
      "Submitted batch job 39523692\n",
      "Submitted batch job 39523693\n",
      "Submitted batch job 39523694\n",
      "Submitted batch job 39523695\n",
      "Submitted batch job 39523696\n",
      "Submitted batch job 39523697\n",
      "Submitted batch job 39523698\n",
      "Submitted batch job 39523699\n",
      "Submitted batch job 39523700\n",
      "Submitted batch job 39523701\n",
      "Submitted batch job 39523702\n",
      "Submitted batch job 39523703\n",
      "Submitted batch job 39523704\n",
      "Submitted batch job 39523705\n",
      "Submitted batch job 39523706\n",
      "Submitted batch job 39523707\n",
      "Submitted batch job 39523708\n",
      "Submitted batch job 39523709\n",
      "Submitted batch job 39523710\n",
      "Submitted batch job 39523711\n",
      "Submitted batch job 39523712\n",
      "Submitted batch job 39523713\n",
      "Submitted batch job 39523714\n",
      "Submitted batch job 39523715\n",
      "Submitted batch job 39523716\n",
      "Submitted batch job 39523717\n",
      "Submitted batch job 39523718\n",
      "Submitted batch job 39523719\n",
      "Submitted batch job 39523720\n",
      "Submitted batch job 39523721\n",
      "Submitted batch job 39523722\n",
      "Submitted batch job 39523723\n",
      "Submitted batch job 39523724\n",
      "Submitted batch job 39523725\n",
      "Submitted batch job 39523726\n",
      "Submitted batch job 39523727\n",
      "Submitted batch job 39523728\n",
      "Submitted batch job 39523729\n",
      "Submitted batch job 39523730\n",
      "Submitted batch job 39523731\n",
      "Submitted batch job 39523732\n",
      "Submitted batch job 39523733\n",
      "Submitted batch job 39523734\n",
      "Submitted batch job 39523735\n",
      "Submitted batch job 39523736\n",
      "Submitted batch job 39523737\n",
      "Submitted batch job 39523738\n",
      "Submitted batch job 39523739\n",
      "Submitted batch job 39523740\n",
      "Submitted batch job 39523741\n",
      "Submitted batch job 39523742\n",
      "Submitted batch job 39523743\n",
      "Submitted batch job 39523744\n",
      "Submitted batch job 39523745\n",
      "Submitted batch job 39523746\n",
      "Submitted batch job 39523747\n",
      "Submitted batch job 39523748\n",
      "Submitted batch job 39523749\n",
      "Submitted batch job 39523750\n",
      "Submitted batch job 39523751\n",
      "Submitted batch job 39523752\n",
      "Submitted batch job 39523753\n",
      "Submitted batch job 39523754\n",
      "Submitted batch job 39523755\n",
      "Submitted batch job 39523756\n",
      "Submitted batch job 39523757\n",
      "Submitted batch job 39523758\n",
      "Submitted batch job 39523759\n",
      "Submitted batch job 39523760\n",
      "Submitted batch job 39523761\n",
      "Submitted batch job 39523762\n",
      "Submitted batch job 39523763\n",
      "Submitted batch job 39523764\n",
      "Submitted batch job 39523765\n",
      "Submitted batch job 39523766\n",
      "Submitted batch job 39523767\n",
      "Submitted batch job 39523768\n",
      "Submitted batch job 39523769\n",
      "Submitted batch job 39523770\n",
      "Submitted batch job 39523771\n"
     ]
    }
   ],
   "source": [
    "cfiles = []\n",
    "for i, k in enumerate(braker_split):\n",
    "    #print(i)\n",
    "    chunkname = \"braker_chunks2/braker_chunk_{chunk_i}.gff3_chunk\".format(chunk_i=i)\n",
    "    #k.to_csv(chunkname)\n",
    "    cname = \"braker_chunk_{chunk_i}.gff3_chunk\".format(chunk_i=i)\n",
    "    #cfiles.append(cname)\n",
    "    #print(cname.rsplit(\".\")[0]+'.cpg')\n",
    "    #print(cname)\n",
    "    #if cname.rsplit(\".\")[0]+'.cpg' not in cpg_chunks:\n",
    "        #print(cname)\n",
    "       # print(cname.rsplit(\".\")[0]+'.cpg')\n",
    "    #cfiles.append(cname.rsplit(\".\")[0]+'.cpg')\n",
    "    create_and_submit_sbatch(batch=i, chunk=chunkname)"
   ]
  },
  {
   "cell_type": "code",
   "execution_count": 13,
   "id": "7bf50403-8967-408e-b4f7-55ffc42266fd",
   "metadata": {},
   "outputs": [
    {
     "data": {
      "text/plain": [
       "200"
      ]
     },
     "execution_count": 13,
     "metadata": {},
     "output_type": "execute_result"
    }
   ],
   "source": [
    "len(cfiles)"
   ]
  },
  {
   "cell_type": "code",
   "execution_count": 15,
   "id": "b81ccc58-f02e-4353-abfc-761127d2bdf4",
   "metadata": {},
   "outputs": [],
   "source": [
    "#cfiles"
   ]
  },
  {
   "cell_type": "code",
   "execution_count": 63,
   "id": "1dc26555-24a0-472c-9c3f-8826f5ec05d4",
   "metadata": {},
   "outputs": [
    {
     "data": {
      "text/plain": [
       "200"
      ]
     },
     "execution_count": 63,
     "metadata": {},
     "output_type": "execute_result"
    }
   ],
   "source": [
    "len(braker_split)"
   ]
  },
  {
   "cell_type": "code",
   "execution_count": 45,
   "id": "b60ad2c0-1b22-4007-9841-9ebe4dd0da86",
   "metadata": {},
   "outputs": [],
   "source": [
    "cpg_chunks =  [ i for i in os.listdir(\"./braker_chunks2\") if i.endswith(\".cpg\")]"
   ]
  },
  {
   "cell_type": "code",
   "execution_count": 51,
   "id": "dd955d30-b45f-46ae-af99-ad0919564b8f",
   "metadata": {
    "scrolled": true
   },
   "outputs": [
    {
     "data": {
      "text/plain": [
       "181"
      ]
     },
     "execution_count": 51,
     "metadata": {},
     "output_type": "execute_result"
    }
   ],
   "source": [
    "len(cpg_chunks) # all chunks are there"
   ]
  },
  {
   "cell_type": "code",
   "execution_count": 152,
   "id": "b38fc433-97b6-40aa-a969-5f3ede95149c",
   "metadata": {},
   "outputs": [],
   "source": [
    "rho_chunks_df = pd.concat([pd.read_csv(os.path.join(\"./braker_chunks2\",i), header=None) for i in rho_chunks])"
   ]
  },
  {
   "cell_type": "code",
   "execution_count": 153,
   "id": "5d64a402-20e9-4dff-923c-39c0371e6e84",
   "metadata": {},
   "outputs": [],
   "source": [
    "rho_chunks_df = rho_chunks_df.sort_values([1,3,4])"
   ]
  },
  {
   "cell_type": "code",
   "execution_count": 154,
   "id": "334f092e-dc7d-4138-aff1-500f2a3ab458",
   "metadata": {},
   "outputs": [],
   "source": [
    "rho_chunks_df.columns = [\"old_index\"]+list(braker.columns)+['weighted_mean_rho']"
   ]
  },
  {
   "cell_type": "markdown",
   "id": "157c4184-cb87-4b41-b799-bc517b010167",
   "metadata": {},
   "source": [
    "### how many genes do not have an associated rho-value?"
   ]
  },
  {
   "cell_type": "code",
   "execution_count": 141,
   "id": "85a5516a-d6a0-4579-b565-5bf8c1a19e32",
   "metadata": {},
   "outputs": [
    {
     "data": {
      "text/plain": [
       "[('no_overlap_bin', 37204),\n",
       " ('1.31625', 1458),\n",
       " ('0.00682', 1154),\n",
       " ('0.02511', 1064),\n",
       " ('28.8939', 865)]"
      ]
     },
     "execution_count": 141,
     "metadata": {},
     "output_type": "execute_result"
    }
   ],
   "source": [
    "Counter(rho_chunks_df.weighted_mean_rho).most_common(5)"
   ]
  },
  {
   "cell_type": "code",
   "execution_count": 145,
   "id": "84dc4234-39cc-40f2-9398-3ec8c9aee9fc",
   "metadata": {},
   "outputs": [
    {
     "data": {
      "text/plain": [
       "(827909, 7)"
      ]
     },
     "execution_count": 145,
     "metadata": {},
     "output_type": "execute_result"
    }
   ],
   "source": [
    "rho_chunks_df.shape"
   ]
  },
  {
   "cell_type": "code",
   "execution_count": 143,
   "id": "a011aa1b-6934-4a2d-a8dd-ac6b2c67b02e",
   "metadata": {},
   "outputs": [
    {
     "data": {
      "text/plain": [
       "4.51630916396567"
      ]
     },
     "execution_count": 143,
     "metadata": {},
     "output_type": "execute_result"
    }
   ],
   "source": [
    "(37204/823770)*100"
   ]
  },
  {
   "cell_type": "markdown",
   "id": "ae5735f1-379e-4ab6-9930-70a54e8a6d9e",
   "metadata": {},
   "source": [
    "#### roughly 4.5%\n",
    "\n",
    "### plotting"
   ]
  },
  {
   "cell_type": "code",
   "execution_count": 157,
   "id": "a0084f64-3a67-4d0b-ae86-c37b8e5741f7",
   "metadata": {},
   "outputs": [
    {
     "data": {
      "text/plain": [
       "270     0.66661\n",
       "271     0.66661\n",
       "272     0.66661\n",
       "273     0.66661\n",
       "274     0.66661\n",
       "         ...   \n",
       "2833    0.08865\n",
       "2834    0.08865\n",
       "2835    0.08865\n",
       "2836    0.08865\n",
       "2837    0.08865\n",
       "Name: weighted_mean_rho, Length: 827909, dtype: object"
      ]
     },
     "execution_count": 157,
     "metadata": {},
     "output_type": "execute_result"
    }
   ],
   "source": [
    "rho_chunks_df.weighted_mean_rho"
   ]
  },
  {
   "cell_type": "code",
   "execution_count": 158,
   "id": "2a33004c-60c3-433d-a677-7ab2a08da35b",
   "metadata": {},
   "outputs": [],
   "source": [
    "# drop missing values\n",
    "rho_chunks_df=rho_chunks_df.replace('no_overlap_bin', np.nan)"
   ]
  },
  {
   "cell_type": "code",
   "execution_count": 160,
   "id": "e933bc28-7598-4ca4-bdb4-8dfbdcc5e7a3",
   "metadata": {},
   "outputs": [],
   "source": [
    "rho_chunks_df.weighted_mean_rho = rho_chunks_df.weighted_mean_rho.astype(float)"
   ]
  },
  {
   "cell_type": "code",
   "execution_count": 175,
   "id": "f2641e27-2de6-4e70-a40f-26ec4d4437b4",
   "metadata": {
    "scrolled": true
   },
   "outputs": [
    {
     "data": {
      "image/png": "[encoded data removed]",
      "text/plain": [
       "<Figure size 2000x1000 with 1 Axes>"
      ]
     },
     "metadata": {},
     "output_type": "display_data"
    }
   ],
   "source": [
    "fig, ax = plt.subplots(ncols=1, nrows=1,figsize=(20,10))\n",
    "sns.boxplot(x=rho_chunks_df[\"Type\"], y=rho_chunks_df[\"weighted_mean_rho\"],fliersize=0, ax=ax )\n",
    "plt.ylim(0,4)\n",
    "plt.show()                       "
   ]
  },
  {
   "cell_type": "code",
   "execution_count": 68,
   "id": "b54578e8-906c-4884-8532-84580eb11539",
   "metadata": {},
   "outputs": [
    {
     "data": {
      "text/plain": [
       "False"
      ]
     },
     "execution_count": 68,
     "metadata": {},
     "output_type": "execute_result"
    }
   ],
   "source": [
    " \"braker_chunk_13.cpg\" in cpg_chunks"
   ]
  },
  {
   "cell_type": "code",
   "execution_count": 177,
   "id": "ee788dd3-fee3-499a-bc3a-2af6bb831986",
   "metadata": {},
   "outputs": [],
   "source": [
    "gb_rho = rho_chunks_df.groupby(\"Type\")"
   ]
  },
  {
   "cell_type": "code",
   "execution_count": 179,
   "id": "3eb79ad9-cc8b-4e69-ab16-334d7c1c5a18",
   "metadata": {},
   "outputs": [
    {
     "data": {
      "text/plain": [
       "Type\n",
       "CDS            3.508157\n",
       "exon           3.508157\n",
       "intron         3.498127\n",
       "start_codon    3.836048\n",
       "stop_codon     3.761558\n",
       "Name: weighted_mean_rho, dtype: float64"
      ]
     },
     "execution_count": 179,
     "metadata": {},
     "output_type": "execute_result"
    }
   ],
   "source": [
    "gb_rho.weighted_mean_rho.mean()"
   ]
  },
  {
   "cell_type": "code",
   "execution_count": 181,
   "id": "9aad2186-f5a8-4c05-a44c-363be2719f4a",
   "metadata": {},
   "outputs": [
    {
     "data": {
      "text/plain": [
       "Type\n",
       "CDS            10.836931\n",
       "exon           10.836931\n",
       "intron         10.512917\n",
       "start_codon    11.772698\n",
       "stop_codon     12.016225\n",
       "Name: weighted_mean_rho, dtype: float64"
      ]
     },
     "execution_count": 181,
     "metadata": {},
     "output_type": "execute_result"
    }
   ],
   "source": [
    "gb_rho.weighted_mean_rho.std()"
   ]
  },
  {
   "cell_type": "code",
   "execution_count": 183,
   "id": "f719d1e5-cf32-47e6-858e-dbb77eaabcf0",
   "metadata": {},
   "outputs": [
    {
     "data": {
      "text/plain": [
       "Type\n",
       "CDS            0.13708\n",
       "exon           0.13708\n",
       "intron         0.22722\n",
       "start_codon    0.22746\n",
       "stop_codon     0.19728\n",
       "Name: weighted_mean_rho, dtype: float64"
      ]
     },
     "execution_count": 183,
     "metadata": {},
     "output_type": "execute_result"
    }
   ],
   "source": [
    "gb_rho.weighted_mean_rho.median()"
   ]
  },
  {
   "cell_type": "code",
   "execution_count": null,
   "id": "d98e57a9-2a19-42a4-8f3f-be7d3d2a06a0",
   "metadata": {},
   "outputs": [],
   "source": []
  },
  {
   "cell_type": "code",
   "execution_count": null,
   "id": "943a16f1-b652-4eb4-8f50-125e08ee5825",
   "metadata": {},
   "outputs": [],
   "source": []
  }
 ],
 "metadata": {
  "kernelspec": {
   "display_name": "Python 3 (ipykernel)",
   "language": "python",
   "name": "python3"
  },
  "language_info": {
   "codemirror_mode": {
    "name": "ipython",
    "version": 3
   },
   "file_extension": ".py",
   "mimetype": "text/x-python",
   "name": "python",
   "nbconvert_exporter": "python",
   "pygments_lexer": "ipython3",
   "version": "3.10.10"
  }
 },
 "nbformat": 4,
 "nbformat_minor": 5
}
