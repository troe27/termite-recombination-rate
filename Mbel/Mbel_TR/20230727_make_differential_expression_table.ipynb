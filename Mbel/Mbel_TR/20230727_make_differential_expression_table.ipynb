{
 "cells": [
  {
   "cell_type": "code",
   "execution_count": 40,
   "id": "0251f749-67c4-4393-9b00-8956651174a6",
   "metadata": {},
   "outputs": [],
   "source": [
    "import pandas as pd\n",
    "import os\n",
    "from Bio import SeqIO"
   ]
  },
  {
   "cell_type": "code",
   "execution_count": null,
   "id": "f70b0b5d-0e1c-48fb-9efc-b1499cbbad29",
   "metadata": {},
   "outputs": [],
   "source": [
    "# get list of all Mnat genes\n",
    "mnat = SeqIO.parse(handle='../../TR_20230707_orthofinder/input/Mnat_gene_v1.2.pep.fa', format='fasta')\n",
    "seqID = [i.name for i in mnat]"
   ]
  },
  {
   "cell_type": "code",
   "execution_count": 55,
   "id": "02755ba7-34d6-4578-bd08-557fd17ebf3a",
   "metadata": {},
   "outputs": [],
   "source": [
    "Mnat_to_Mbel_orthologues = pd.read_csv('../../TR_20230707_orthofinder/input/OrthoFinder/Results_Jul12/Orthologues/Orthologues_Mnat_gene_v1.2.pep/Mnat_gene_v1.2.pep__v__Mbel.aa.tsv', sep='\\t')"
   ]
  },
  {
   "cell_type": "code",
   "execution_count": 84,
   "id": "c217c24c-7d70-49a5-9a23-c4feb84ef738",
   "metadata": {},
   "outputs": [
    {
     "data": {
      "text/plain": [
       "['king_upregulated_vs_queen',\n",
       " 'majorworker_upregulated_vs_king',\n",
       " 'majorworker_upregulated_vs_queen',\n",
       " 'queen_upregulated_vs_king',\n",
       " 'queen_upregulated_vs_majorworker',\n",
       " 'king_upregulated_vs_majorworker',\n",
       " 'minorworker_upregulated_vs_majorworker',\n",
       " 'king_upregulated_vs_minorworker',\n",
       " 'minorworker_upregulated_vs_king',\n",
       " 'majorworker_upregulated_vs_minorworker',\n",
       " 'queen_upregulated_vs_minorworker',\n",
       " 'minorworker_upregulated_vs_queen']"
      ]
     },
     "execution_count": 84,
     "metadata": {},
     "output_type": "execute_result"
    }
   ],
   "source": [
    "[i.rsplit('.')[0] for i in os.listdir(folder) if i.endswith('.csv')]"
   ]
  },
  {
   "cell_type": "markdown",
   "id": "bfcd33cf-7e90-46cc-9d0c-8aa08c2d3aee",
   "metadata": {},
   "source": [
    "# get differential expression data"
   ]
  },
  {
   "cell_type": "code",
   "execution_count": 85,
   "id": "d91183be-d310-42c8-94ff-68b0209f5100",
   "metadata": {},
   "outputs": [],
   "source": [
    "folder = \"./DEG_Elsner2018/\"\n",
    "DEdict = {}\n",
    "\n",
    "#get list of all genes\n",
    "for ID in seqID:\n",
    "    DEdict.setdefault(ID, {})\n",
    "    DEdict[ID]['DE']=False\n",
    "    DEdict[ID]['DE_royal']=False\n",
    "    DEdict[ID]['sgo']=False\n",
    "    DEdict[ID]['sgo_mbel']=False\n",
    "    DEdict[ID]['sgo_mnat']=False\n",
    "\n",
    "    DEdict[ID]['king_upregulated_vs_queen']=False\n",
    "    DEdict[ID]['majorworker_upregulated_vs_king']=False\n",
    "    DEdict[ID]['majorworker_upregulated_vs_queen']=False\n",
    "    DEdict[ID]['queen_upregulated_vs_king']=False\n",
    "    DEdict[ID]['queen_upregulated_vs_majorworker']=False\n",
    "    DEdict[ID]['king_upregulated_vs_majorworker']=False\n",
    "    DEdict[ID]['minorworker_upregulated_vs_majorworker']=False\n",
    "    DEdict[ID]['king_upregulated_vs_minorworker']=False\n",
    "    DEdict[ID]['minorworker_upregulated_vs_king']=False\n",
    "    DEdict[ID]['majorworker_upregulated_vs_minorworker']=False\n",
    "    DEdict[ID]['queen_upregulated_vs_minorworker']=False\n",
    "    DEdict[ID]['minorworker_upregulated_vs_queen']=False\n",
    "\n",
    "# get differential expression data\n",
    "for file in [i for i in os.listdir(folder) if i.endswith('.csv')]:\n",
    "    path = os.path.join(folder, file)\n",
    "    df = pd.read_csv(path, index_col=0)\n",
    "    for i, k in df.iterrows():\n",
    "        DEdict.setdefault(k['ID'], {})[file.rsplit('.')[0]]=True             #.setdefault('de_type',[]).append(file.rsplit('.')[0])\n",
    "        DEdict[k['ID']]['DE']=True\n",
    "        flist = file.rsplit('.')[0].split('_')\n",
    "        if flist[0] in ['king', 'queen']:\n",
    "            if flist[3] in ['majorworker', 'minorworker']:\n",
    "                DEdict[k['ID']]['DE_royal']=True\n",
    "        elif flist[0] in ['majorworker', 'minorworker']:\n",
    "            if flist[3] in ['king', 'queen']:\n",
    "                DEdict[k['ID']]['DE_royal']=True\n",
    "\n",
    "# get information on orthologues\n",
    "for i, k in Mnat_to_Mbel_orthologues.iterrows():\n",
    "    Mnats = [i.strip(' \\t') for i in  k['Mnat_gene_v1.2.pep'].split(',')]\n",
    "    Mbels = [i.strip(' \\t') for i in k['Mbel.aa'].split(',')]\n",
    "    if len(Mnats) == 1:\n",
    "        if len(Mbels) == 1:\n",
    "            DEdict[Mnats[0]]['sgo']=True\n",
    "            DEdict[Mnats[0]]['sgo_mnat']=True\n",
    "            DEdict[Mnats[0]]['sgo_mbel']=True\n",
    "        else:\n",
    "            DEdict[Mnats[0]]['sgo_mnat']=True\n",
    "    else:    \n",
    "        if len(Mbels) == 1:\n",
    "            DEdict[Mnats[0]]['sgo_mbel']=True\n",
    "    \n",
    "    for i in Mnats:\n",
    "        DEdict[i]['orthologues']=Mbels"
   ]
  },
  {
   "cell_type": "code",
   "execution_count": 87,
   "id": "f4b5eb2b-011c-4302-95cb-5ee691926dad",
   "metadata": {},
   "outputs": [],
   "source": [
    "#DEdict"
   ]
  },
  {
   "cell_type": "markdown",
   "id": "94bef6fa-5420-43db-9384-1389ccd00461",
   "metadata": {},
   "source": [
    "# get Mnat and Mbel Orthologues"
   ]
  },
  {
   "cell_type": "code",
   "execution_count": 88,
   "id": "b54340c3-2ea4-4a15-bc04-58f9ccfd4e50",
   "metadata": {},
   "outputs": [
    {
     "data": {
      "text/plain": [
       "True"
      ]
     },
     "execution_count": 88,
     "metadata": {},
     "output_type": "execute_result"
    }
   ],
   "source": []
  },
  {
   "cell_type": "code",
   "execution_count": 109,
   "id": "d55ad2a8-2255-49d7-8df0-1aa3a7890236",
   "metadata": {},
   "outputs": [],
   "source": [
    "DE_table = []\n",
    "\n",
    "for GeneID, item in DEdict.items():\n",
    "    #for key, item2 in item.items():\n",
    "    line = [GeneID]\n",
    "    for k,i in item.items():\n",
    "        if isinstance(i,str)==True:\n",
    "            line.append(i)\n",
    "        elif isinstance(i, bool):\n",
    "            line.append(i)\n",
    "        else:\n",
    "            line.append(';'.join(i))\n",
    "\n",
    "    DE_table.append(line)\n",
    "DEdf = pd.DataFrame(DE_table)"
   ]
  },
  {
   "cell_type": "code",
   "execution_count": 104,
   "id": "86378bcb-cb99-4d3f-8d60-464b49f7ded0",
   "metadata": {},
   "outputs": [
    {
     "data": {
      "text/plain": [
       "dict_keys(['DE', 'DE_royal', 'sgo', 'sgo_mbel', 'sgo_mnat', 'king_upregulated_vs_queen', 'majorworker_upregulated_vs_king', 'majorworker_upregulated_vs_queen', 'queen_upregulated_vs_king', 'queen_upregulated_vs_majorworker', 'king_upregulated_vs_majorworker', 'minorworker_upregulated_vs_majorworker', 'king_upregulated_vs_minorworker', 'minorworker_upregulated_vs_king', 'majorworker_upregulated_vs_minorworker', 'queen_upregulated_vs_minorworker', 'minorworker_upregulated_vs_queen', 'orthologues'])"
      ]
     },
     "execution_count": 104,
     "metadata": {},
     "output_type": "execute_result"
    }
   ],
   "source": [
    "DEdict['Mnat_01286'].keys()"
   ]
  },
  {
   "cell_type": "code",
   "execution_count": 110,
   "id": "54829c0b-f4d9-460f-8a88-a3e7f6e2c67f",
   "metadata": {},
   "outputs": [],
   "source": [
    "DEdf.columns = ['GeneID','DE', 'DE_royal', 'sgo', 'sgo_mbel', 'sgo_mnat', 'king_upregulated_vs_queen', 'majorworker_upregulated_vs_king', 'majorworker_upregulated_vs_queen', 'queen_upregulated_vs_king', 'queen_upregulated_vs_majorworker', 'king_upregulated_vs_majorworker', 'minorworker_upregulated_vs_majorworker', 'king_upregulated_vs_minorworker', 'minorworker_upregulated_vs_king', 'majorworker_upregulated_vs_minorworker', 'queen_upregulated_vs_minorworker', 'minorworker_upregulated_vs_queen', 'orthologues']"
   ]
  },
  {
   "cell_type": "code",
   "execution_count": 118,
   "id": "3ac51fde-c1cc-428f-882f-63310f0d2fc7",
   "metadata": {},
   "outputs": [],
   "source": [
    "DEdf.to_csv('./20230727_DE_table_with_orthologues_from_elsner2017.tsv', sep='\\t')"
   ]
  },
  {
   "cell_type": "code",
   "execution_count": null,
   "id": "5acfbb01-f21e-455d-ba18-7233b5cf34f4",
   "metadata": {},
   "outputs": [],
   "source": []
  },
  {
   "cell_type": "code",
   "execution_count": null,
   "id": "92ba886c-c714-4bb5-ad98-3496abd01bb5",
   "metadata": {},
   "outputs": [],
   "source": []
  },
  {
   "cell_type": "code",
   "execution_count": null,
   "id": "d2468f18-7ce0-4234-b2c4-d536087f27b9",
   "metadata": {},
   "outputs": [],
   "source": [
    "\n",
    "    "
   ]
  },
  {
   "cell_type": "code",
   "execution_count": null,
   "id": "00d4a2d4-76f6-4136-889a-338029472727",
   "metadata": {},
   "outputs": [],
   "source": []
  },
  {
   "cell_type": "code",
   "execution_count": null,
   "id": "5f8b421f-c3f6-4a3d-a9cc-b5f8c903955e",
   "metadata": {},
   "outputs": [],
   "source": []
  },
  {
   "cell_type": "code",
   "execution_count": null,
   "id": "d28d935d-7928-49b6-b66f-e932aa704e94",
   "metadata": {},
   "outputs": [],
   "source": []
  }
 ],
 "metadata": {
  "kernelspec": {
   "display_name": "Python 3 (ipykernel)",
   "language": "python",
   "name": "python3"
  },
  "language_info": {
   "codemirror_mode": {
    "name": "ipython",
    "version": 3
   },
   "file_extension": ".py",
   "mimetype": "text/x-python",
   "name": "python",
   "nbconvert_exporter": "python",
   "pygments_lexer": "ipython3",
   "version": "3.10.10"
  }
 },
 "nbformat": 4,
 "nbformat_minor": 5
}
