{
 "cells": [
  {
   "cell_type": "markdown",
   "id": "931d72de-2df2-4946-9dd2-05bb16bfa215",
   "metadata": {},
   "source": [
    "### Imports"
   ]
  },
  {
   "cell_type": "code",
   "execution_count": 121,
   "id": "7ccbe80b-eec0-470d-b740-ec7386dfddbd",
   "metadata": {},
   "outputs": [],
   "source": [
    "import pandas as pd\n",
    "import numpy as np\n",
    "import subprocess\n",
    "import os\n",
    "import seaborn as sns\n",
    "import matplotlib.pyplot as plt\n",
    "from collections import Counter"
   ]
  },
  {
   "cell_type": "markdown",
   "id": "c61c5a26-5f23-40c4-aadd-362d0af54dcf",
   "metadata": {},
   "source": [
    "### load raw data"
   ]
  },
  {
   "cell_type": "code",
   "execution_count": 122,
   "id": "15b59df7-d26a-433b-97da-11cd058b9bb4",
   "metadata": {},
   "outputs": [],
   "source": [
    "# load data\n",
    "braker = pd.read_csv('./braker.gff3_red', sep='\\t')"
   ]
  },
  {
   "cell_type": "markdown",
   "id": "3b98e806-dba3-469a-a49e-dc2392a3ccd6",
   "metadata": {},
   "source": [
    "### process into chunks and send off to slurm"
   ]
  },
  {
   "cell_type": "markdown",
   "id": "3c896649-4715-45b9-b196-148495472d5c",
   "metadata": {
    "jupyter": {
     "source_hidden": true
    }
   },
   "source": [
    "### content of get_rho_chunk.py\n",
    "\n",
    "```python\n",
    "# input\n",
    "import pandas as pd\n",
    "import argparse\n",
    "import numpy as np\n",
    "\n",
    "# def function\n",
    "def cli_parser():\n",
    "    '''\n",
    "    parses command line input\n",
    "   \n",
    "    '''\n",
    "    parser_main = argparse.ArgumentParser(prog='run_rho_chunk.py')\n",
    "    parser_main.add_argument(\"--input\",\n",
    "                             help=\"path to the folder that contains the vcf files that should be merged\",\n",
    "                             required = True)\n",
    "\n",
    "    args = parser_main.parse_args()\n",
    "    return args\n",
    "\n",
    "def get_weighted_mean_rho(ss_data, row):\n",
    "  if ss_data.shape[0]==0:\n",
    "    return 'no_overlap_bin'\n",
    "  else:\n",
    "    rho_fracs= []\n",
    "    overlaps = []\n",
    "    for i, b in ss_data.iterrows():\n",
    "      bin_start = (b.Pos_kb_start*1e3)\n",
    "      bin_end = (b.Pos_kb_end*1e3)\n",
    "      gene_start = row.Start_pos\n",
    "      gene_end = row.End_pos\n",
    "      if bin_start < gene_start:\n",
    "        if bin_end > gene_end:\n",
    "          #print('all of the gene is in the bin, return rho')\n",
    "          return b.Mean_rho\n",
    "        else:\n",
    "          # overlap is bin_end - gene_start\n",
    "          overlap = bin_end - gene_start\n",
    "          rho_frac = b.Mean_rho*overlap\n",
    "      else:\n",
    "        if bin_end > gene_end:\n",
    "          overlap = gene_end - bin_start\n",
    "          rho_frac = b.Mean_rho*overlap\n",
    "        else:\n",
    "          overlap = bin_end - bin_start\n",
    "          rho_frac = b.Mean_rho*overlap\n",
    "      rho_fracs.append(rho_frac)\n",
    "      overlaps.append(overlap)\n",
    "    return sum(rho_fracs)/sum(overlaps)\n",
    "\n",
    "\n",
    "# run stuff\n",
    "\n",
    "# load data\n",
    "args =cli_parser()\n",
    "chunk = pd.read_csv(args.input, sep=',')\n",
    "data = pd.read_csv('./concat_Mbel_excl5scaff_rmind_hardfilt_exhet_biall_dp_qfilt_mac2_maxmiss06_rmfilt_sedmiss_phimp.vcf_LDhat_bpen1_statres_100N_red.txt', sep='\\t')\n",
    "\n",
    "\n",
    "weighted_mean_rho = []\n",
    "for index,row in chunk.iterrows():\n",
    "  ss_data = data.loc[data.Scaffold==row.Scaffold].loc[(data.Pos_kb_start*1e3)<row.End_pos].loc[(data.Pos_kb_end*1e3)>row.Start_pos]\n",
    "  rho = get_weighted_mean_rho(row=row, ss_data=ss_data)\n",
    "  weighted_mean_rho.append(\",\".join([str(j) for j in row])+','+str(rho))\n",
    "  if index%1e2 == 0:\n",
    "    print(\",\".join([str(j) for j in row])+','+str(rho))\n",
    "    print(index)\n",
    "    \n",
    "# write output\n",
    "\n",
    "outfile = args.input.rstrip(\"gff3_chunk\")+\".rho\"\n",
    "with open(outfile, \"wt\") as handle:\n",
    "    handle.write('\\n'.join(weighted_mean_rho))\n",
    "```\n"
   ]
  },
  {
   "cell_type": "code",
   "execution_count": 123,
   "id": "22932d86-1fa3-4944-b20a-41133b1f6b9d",
   "metadata": {},
   "outputs": [],
   "source": [
    "#split into chunks and write them\n",
    "chunk_n = 200\n",
    "braker_split = np.array_split(braker, chunk_n)"
   ]
  },
  {
   "cell_type": "code",
   "execution_count": 124,
   "id": "508e5d0e-1a48-43c5-8c1c-77bfea2f7c4f",
   "metadata": {},
   "outputs": [],
   "source": [
    "def create_and_submit_sbatch(batch, chunk):\n",
    "    name=\"rho_batch{batch}.job\".format(batch=batch)\n",
    "    sbatch = [ \"#!/bin/bash -l\",\n",
    "                    \"#SBATCH -A naiss2023-22-450\",\n",
    "                    \"#SBATCH -t 2:0:0 \",\n",
    "                    \"#SBATCH -p core -n 1\",\n",
    "                    \"#SBATCH -J {name}\".format(name=name),\n",
    "                    \"#SBATCH -o {name}_%j.out\".format(name=name),\n",
    "                    \"#SBATCH -e {name}_%j.error\".format(name=name),\n",
    "                    \"#SBATCH --get-user-env\",\n",
    "                    \"##command underneath this##\",\n",
    "                    \"conda activate base\",\n",
    "                    \"python get_rho_chunk.py --input {chunk}\".format(chunk=chunk)]\n",
    "    with open(\"braker_chunks2/\"+name, 'wt') as handle:\n",
    "        handle.write(\"\\n\".join(sbatch))\n",
    "    subprocess.call([\"chmod\", \"766\", \"braker_chunks2/\"+name])\n",
    "    subprocess.call([\"sbatch\", \"braker_chunks2/\"+name])"
   ]
  },
  {
   "cell_type": "code",
   "execution_count": 125,
   "id": "bd9769b7-2640-4251-8865-81a11f6814ca",
   "metadata": {
    "scrolled": true
   },
   "outputs": [
    {
     "name": "stdout",
     "output_type": "stream",
     "text": [
      "Submitted batch job 39327679\n",
      "Submitted batch job 39327680\n",
      "Submitted batch job 39327681\n",
      "Submitted batch job 39327682\n",
      "Submitted batch job 39327683\n",
      "Submitted batch job 39327684\n",
      "Submitted batch job 39327685\n",
      "Submitted batch job 39327686\n",
      "Submitted batch job 39327687\n",
      "Submitted batch job 39327688\n",
      "Submitted batch job 39327689\n",
      "Submitted batch job 39327690\n",
      "Submitted batch job 39327691\n",
      "Submitted batch job 39327692\n",
      "Submitted batch job 39327693\n",
      "Submitted batch job 39327694\n",
      "Submitted batch job 39327695\n",
      "Submitted batch job 39327696\n",
      "Submitted batch job 39327697\n",
      "Submitted batch job 39327698\n",
      "Submitted batch job 39327699\n",
      "Submitted batch job 39327700\n",
      "Submitted batch job 39327701\n",
      "Submitted batch job 39327702\n",
      "Submitted batch job 39327703\n",
      "Submitted batch job 39327704\n",
      "Submitted batch job 39327705\n",
      "Submitted batch job 39327706\n",
      "Submitted batch job 39327707\n",
      "Submitted batch job 39327708\n",
      "Submitted batch job 39327709\n",
      "Submitted batch job 39327710\n",
      "Submitted batch job 39327711\n",
      "Submitted batch job 39327712\n",
      "Submitted batch job 39327713\n",
      "Submitted batch job 39327714\n",
      "Submitted batch job 39327715\n",
      "Submitted batch job 39327716\n",
      "Submitted batch job 39327717\n",
      "Submitted batch job 39327718\n",
      "Submitted batch job 39327719\n",
      "Submitted batch job 39327720\n",
      "Submitted batch job 39327721\n",
      "Submitted batch job 39327722\n",
      "Submitted batch job 39327723\n",
      "Submitted batch job 39327724\n",
      "Submitted batch job 39327725\n",
      "Submitted batch job 39327726\n",
      "Submitted batch job 39327727\n",
      "Submitted batch job 39327728\n",
      "Submitted batch job 39327729\n",
      "Submitted batch job 39327730\n",
      "Submitted batch job 39327731\n",
      "Submitted batch job 39327732\n",
      "Submitted batch job 39327733\n",
      "Submitted batch job 39327734\n",
      "Submitted batch job 39327735\n",
      "Submitted batch job 39327736\n",
      "Submitted batch job 39327737\n",
      "Submitted batch job 39327738\n",
      "Submitted batch job 39327739\n",
      "Submitted batch job 39327740\n",
      "Submitted batch job 39327741\n",
      "Submitted batch job 39327742\n",
      "Submitted batch job 39327743\n",
      "Submitted batch job 39327744\n",
      "Submitted batch job 39327745\n",
      "Submitted batch job 39327746\n",
      "Submitted batch job 39327747\n",
      "Submitted batch job 39327748\n",
      "Submitted batch job 39327749\n",
      "Submitted batch job 39327750\n",
      "Submitted batch job 39327751\n",
      "Submitted batch job 39327752\n",
      "Submitted batch job 39327753\n",
      "Submitted batch job 39327754\n",
      "Submitted batch job 39327755\n",
      "Submitted batch job 39327756\n",
      "Submitted batch job 39327757\n",
      "Submitted batch job 39327758\n",
      "Submitted batch job 39327759\n",
      "Submitted batch job 39327760\n",
      "Submitted batch job 39327761\n",
      "Submitted batch job 39327762\n",
      "Submitted batch job 39327763\n",
      "Submitted batch job 39327764\n",
      "Submitted batch job 39327765\n",
      "Submitted batch job 39327766\n",
      "Submitted batch job 39327767\n",
      "Submitted batch job 39327768\n",
      "Submitted batch job 39327769\n",
      "Submitted batch job 39327770\n",
      "Submitted batch job 39327771\n",
      "Submitted batch job 39327772\n",
      "Submitted batch job 39327773\n",
      "Submitted batch job 39327774\n",
      "Submitted batch job 39327775\n",
      "Submitted batch job 39327776\n",
      "Submitted batch job 39327777\n",
      "Submitted batch job 39327778\n",
      "Submitted batch job 39327779\n",
      "Submitted batch job 39327780\n",
      "Submitted batch job 39327781\n",
      "Submitted batch job 39327782\n",
      "Submitted batch job 39327783\n",
      "Submitted batch job 39327784\n",
      "Submitted batch job 39327785\n",
      "Submitted batch job 39327786\n",
      "Submitted batch job 39327787\n",
      "Submitted batch job 39327788\n",
      "Submitted batch job 39327789\n",
      "Submitted batch job 39327790\n",
      "Submitted batch job 39327791\n",
      "Submitted batch job 39327792\n",
      "Submitted batch job 39327793\n",
      "Submitted batch job 39327794\n",
      "Submitted batch job 39327795\n",
      "Submitted batch job 39327796\n",
      "Submitted batch job 39327797\n",
      "Submitted batch job 39327798\n",
      "Submitted batch job 39327799\n",
      "Submitted batch job 39327800\n",
      "Submitted batch job 39327801\n",
      "Submitted batch job 39327802\n",
      "Submitted batch job 39327803\n",
      "Submitted batch job 39327804\n",
      "Submitted batch job 39327805\n",
      "Submitted batch job 39327806\n",
      "Submitted batch job 39327807\n",
      "Submitted batch job 39327808\n",
      "Submitted batch job 39327809\n",
      "Submitted batch job 39327810\n",
      "Submitted batch job 39327811\n",
      "Submitted batch job 39327812\n",
      "Submitted batch job 39327813\n",
      "Submitted batch job 39327814\n",
      "Submitted batch job 39327815\n",
      "Submitted batch job 39327816\n",
      "Submitted batch job 39327817\n",
      "Submitted batch job 39327818\n",
      "Submitted batch job 39327819\n",
      "Submitted batch job 39327820\n",
      "Submitted batch job 39327821\n",
      "Submitted batch job 39327822\n",
      "Submitted batch job 39327823\n",
      "Submitted batch job 39327824\n",
      "Submitted batch job 39327825\n",
      "Submitted batch job 39327826\n",
      "Submitted batch job 39327827\n",
      "Submitted batch job 39327828\n",
      "Submitted batch job 39327829\n",
      "Submitted batch job 39327830\n",
      "Submitted batch job 39327831\n",
      "Submitted batch job 39327832\n",
      "Submitted batch job 39327833\n",
      "Submitted batch job 39327834\n",
      "Submitted batch job 39327835\n",
      "Submitted batch job 39327836\n",
      "Submitted batch job 39327837\n",
      "Submitted batch job 39327838\n",
      "Submitted batch job 39327839\n",
      "Submitted batch job 39327840\n",
      "Submitted batch job 39327841\n",
      "Submitted batch job 39327842\n",
      "Submitted batch job 39327843\n",
      "Submitted batch job 39327844\n",
      "Submitted batch job 39327845\n",
      "Submitted batch job 39327846\n",
      "Submitted batch job 39327847\n",
      "Submitted batch job 39327848\n",
      "Submitted batch job 39327849\n",
      "Submitted batch job 39327850\n",
      "Submitted batch job 39327851\n",
      "Submitted batch job 39327852\n",
      "Submitted batch job 39327853\n",
      "Submitted batch job 39327854\n",
      "Submitted batch job 39327855\n",
      "Submitted batch job 39327856\n",
      "Submitted batch job 39327857\n",
      "Submitted batch job 39327858\n",
      "Submitted batch job 39327859\n",
      "Submitted batch job 39327860\n",
      "Submitted batch job 39327861\n",
      "Submitted batch job 39327862\n",
      "Submitted batch job 39327863\n",
      "Submitted batch job 39327864\n",
      "Submitted batch job 39327865\n",
      "Submitted batch job 39327866\n",
      "Submitted batch job 39327867\n",
      "Submitted batch job 39327868\n",
      "Submitted batch job 39327869\n",
      "Submitted batch job 39327870\n",
      "Submitted batch job 39327871\n",
      "Submitted batch job 39327872\n",
      "Submitted batch job 39327873\n",
      "Submitted batch job 39327874\n",
      "Submitted batch job 39327875\n",
      "Submitted batch job 39327876\n",
      "Submitted batch job 39327877\n",
      "Submitted batch job 39327878\n"
     ]
    }
   ],
   "source": [
    "for i, k in enumerate(braker_split):\n",
    "    chunkname = \"./braker_chunks2/braker_chunk_{chunk_i}.gff3_chunk\".format(chunk_i=i)\n",
    "    k.to_csv(chunkname)\n",
    "    create_and_submit_sbatch(batch=i, chunk=chunkname)"
   ]
  },
  {
   "cell_type": "markdown",
   "id": "44ee465c-67ca-4700-b847-f1bef5d0951c",
   "metadata": {},
   "source": [
    "### collect results"
   ]
  },
  {
   "cell_type": "code",
   "execution_count": 135,
   "id": "73e6ea29-f806-4138-a20e-f2799116947e",
   "metadata": {},
   "outputs": [],
   "source": [
    "rho_chunks =  [ i for i in os.listdir(\"./braker_chunks2\") if i.endswith(\".rho\")]"
   ]
  },
  {
   "cell_type": "code",
   "execution_count": 136,
   "id": "b8a33c0f-c100-4166-a1ef-1b6bff6d1d9c",
   "metadata": {
    "scrolled": true
   },
   "outputs": [
    {
     "data": {
      "text/plain": [
       "200"
      ]
     },
     "execution_count": 136,
     "metadata": {},
     "output_type": "execute_result"
    }
   ],
   "source": [
    "len(rho_chunks) # all chunks are there"
   ]
  },
  {
   "cell_type": "code",
   "execution_count": 152,
   "id": "7d2e3187-00d1-4966-b149-8df0a8b795c6",
   "metadata": {},
   "outputs": [],
   "source": [
    "rho_chunks_df = pd.concat([pd.read_csv(os.path.join(\"./braker_chunks2\",i), header=None) for i in rho_chunks])"
   ]
  },
  {
   "cell_type": "code",
   "execution_count": 153,
   "id": "24efc1c6-9fc2-407d-bf76-5ae1cbb725cd",
   "metadata": {},
   "outputs": [],
   "source": [
    "rho_chunks_df = rho_chunks_df.sort_values([1,3,4])"
   ]
  },
  {
   "cell_type": "code",
   "execution_count": 154,
   "id": "ac3cb25b-97a0-461b-8ab8-29c4be268548",
   "metadata": {},
   "outputs": [],
   "source": [
    "rho_chunks_df.columns = [\"old_index\"]+list(braker.columns)+['weighted_mean_rho']"
   ]
  },
  {
   "cell_type": "markdown",
   "id": "7d9d2f98-4898-4603-b2d3-edc5dd66606f",
   "metadata": {},
   "source": [
    "### how many genes do not have an associated rho-value?"
   ]
  },
  {
   "cell_type": "code",
   "execution_count": 141,
   "id": "7398995e-ddd0-4163-a28d-66bb002e0261",
   "metadata": {},
   "outputs": [
    {
     "data": {
      "text/plain": [
       "[('no_overlap_bin', 37204),\n",
       " ('1.31625', 1458),\n",
       " ('0.00682', 1154),\n",
       " ('0.02511', 1064),\n",
       " ('28.8939', 865)]"
      ]
     },
     "execution_count": 141,
     "metadata": {},
     "output_type": "execute_result"
    }
   ],
   "source": [
    "Counter(rho_chunks_df.weighted_mean_rho).most_common(5)"
   ]
  },
  {
   "cell_type": "code",
   "execution_count": 145,
   "id": "bcbeb248-73b8-4f94-a263-735a5921f5c1",
   "metadata": {},
   "outputs": [
    {
     "data": {
      "text/plain": [
       "(827909, 7)"
      ]
     },
     "execution_count": 145,
     "metadata": {},
     "output_type": "execute_result"
    }
   ],
   "source": [
    "rho_chunks_df.shape"
   ]
  },
  {
   "cell_type": "code",
   "execution_count": 143,
   "id": "da5ef79f-e1df-4a77-871c-8cc6f28905b6",
   "metadata": {},
   "outputs": [
    {
     "data": {
      "text/plain": [
       "4.51630916396567"
      ]
     },
     "execution_count": 143,
     "metadata": {},
     "output_type": "execute_result"
    }
   ],
   "source": [
    "(37204/823770)*100"
   ]
  },
  {
   "cell_type": "markdown",
   "id": "2601ac27-9506-4bb4-940d-6bc50729ba89",
   "metadata": {},
   "source": [
    "#### roughly 4.5%\n",
    "\n",
    "### plotting"
   ]
  },
  {
   "cell_type": "code",
   "execution_count": 157,
   "id": "a0bd0a2b-b02f-428c-864c-aba3d13ce7f3",
   "metadata": {},
   "outputs": [
    {
     "data": {
      "text/plain": [
       "270     0.66661\n",
       "271     0.66661\n",
       "272     0.66661\n",
       "273     0.66661\n",
       "274     0.66661\n",
       "         ...   \n",
       "2833    0.08865\n",
       "2834    0.08865\n",
       "2835    0.08865\n",
       "2836    0.08865\n",
       "2837    0.08865\n",
       "Name: weighted_mean_rho, Length: 827909, dtype: object"
      ]
     },
     "execution_count": 157,
     "metadata": {},
     "output_type": "execute_result"
    }
   ],
   "source": [
    "rho_chunks_df.weighted_mean_rho"
   ]
  },
  {
   "cell_type": "code",
   "execution_count": 158,
   "id": "63f49b19-49ae-4278-9f00-d23e85a08fef",
   "metadata": {},
   "outputs": [],
   "source": [
    "# drop missing values\n",
    "rho_chunks_df=rho_chunks_df.replace('no_overlap_bin', np.nan)"
   ]
  },
  {
   "cell_type": "code",
   "execution_count": 160,
   "id": "d94fe65d-b38c-4b4f-8c20-194353bc60a1",
   "metadata": {},
   "outputs": [],
   "source": [
    "rho_chunks_df.weighted_mean_rho = rho_chunks_df.weighted_mean_rho.astype(float)"
   ]
  },
  {
   "cell_type": "code",
   "execution_count": 175,
   "id": "361c9fc6-6aec-4423-a3c7-1002a3696e04",
   "metadata": {
    "scrolled": true
   },
   "outputs": [
    {
     "data": {
      "image/png": "[encoded data removed]",
      "text/plain": [
       "<Figure size 2000x1000 with 1 Axes>"
      ]
     },
     "metadata": {},
     "output_type": "display_data"
    }
   ],
   "source": [
    "fig, ax = plt.subplots(ncols=1, nrows=1,figsize=(20,10))\n",
    "sns.boxplot(x=rho_chunks_df[\"Type\"], y=rho_chunks_df[\"weighted_mean_rho\"],fliersize=0, ax=ax )\n",
    "plt.ylim(0,4)\n",
    "plt.show()                       "
   ]
  },
  {
   "cell_type": "code",
   "execution_count": 164,
   "id": "8eff6eaa-4366-4d09-92f9-159b8278c028",
   "metadata": {},
   "outputs": [
    {
     "data": {
      "text/plain": [
       "249.47952"
      ]
     },
     "execution_count": 164,
     "metadata": {},
     "output_type": "execute_result"
    }
   ],
   "source": []
  },
  {
   "cell_type": "code",
   "execution_count": 177,
   "id": "74d44160-1c54-4d24-a55e-32a87e5ebee0",
   "metadata": {},
   "outputs": [],
   "source": [
    "gb_rho = rho_chunks_df.groupby(\"Type\")"
   ]
  },
  {
   "cell_type": "code",
   "execution_count": 179,
   "id": "9dfb8940-d863-49d6-bf02-53b09c6b2559",
   "metadata": {},
   "outputs": [
    {
     "data": {
      "text/plain": [
       "Type\n",
       "CDS            3.508157\n",
       "exon           3.508157\n",
       "intron         3.498127\n",
       "start_codon    3.836048\n",
       "stop_codon     3.761558\n",
       "Name: weighted_mean_rho, dtype: float64"
      ]
     },
     "execution_count": 179,
     "metadata": {},
     "output_type": "execute_result"
    }
   ],
   "source": [
    "gb_rho.weighted_mean_rho.mean()"
   ]
  },
  {
   "cell_type": "code",
   "execution_count": 181,
   "id": "c7595eb8-06c8-4ec5-864d-8aca241a7dc0",
   "metadata": {},
   "outputs": [
    {
     "data": {
      "text/plain": [
       "Type\n",
       "CDS            10.836931\n",
       "exon           10.836931\n",
       "intron         10.512917\n",
       "start_codon    11.772698\n",
       "stop_codon     12.016225\n",
       "Name: weighted_mean_rho, dtype: float64"
      ]
     },
     "execution_count": 181,
     "metadata": {},
     "output_type": "execute_result"
    }
   ],
   "source": [
    "gb_rho.weighted_mean_rho.std()"
   ]
  },
  {
   "cell_type": "code",
   "execution_count": 183,
   "id": "6f6a71f0-a867-42b9-b846-7d2d13fc42a6",
   "metadata": {},
   "outputs": [
    {
     "data": {
      "text/plain": [
       "Type\n",
       "CDS            0.13708\n",
       "exon           0.13708\n",
       "intron         0.22722\n",
       "start_codon    0.22746\n",
       "stop_codon     0.19728\n",
       "Name: weighted_mean_rho, dtype: float64"
      ]
     },
     "execution_count": 183,
     "metadata": {},
     "output_type": "execute_result"
    }
   ],
   "source": [
    "gb_rho.weighted_mean_rho.median()"
   ]
  },
  {
   "cell_type": "code",
   "execution_count": null,
   "id": "10ea7aaf-dc4e-4159-b2ef-ddcaf8f8e09e",
   "metadata": {},
   "outputs": [],
   "source": []
  }
 ],
 "metadata": {
  "kernelspec": {
   "display_name": "Python 3 (ipykernel)",
   "language": "python",
   "name": "python3"
  },
  "language_info": {
   "codemirror_mode": {
    "name": "ipython",
    "version": 3
   },
   "file_extension": ".py",
   "mimetype": "text/x-python",
   "name": "python",
   "nbconvert_exporter": "python",
   "pygments_lexer": "ipython3",
   "version": "3.10.10"
  }
 },
 "nbformat": 4,
 "nbformat_minor": 5
}
